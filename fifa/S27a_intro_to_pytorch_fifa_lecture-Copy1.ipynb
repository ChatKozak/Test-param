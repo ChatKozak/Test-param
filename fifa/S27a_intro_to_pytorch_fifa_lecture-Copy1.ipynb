{
 "cells": [
  {
   "cell_type": "code",
   "execution_count": 1,
   "id": "2b12768b",
   "metadata": {},
   "outputs": [
    {
     "name": "stdout",
     "output_type": "stream",
     "text": [
      "Collecting torchvision\n",
      "  Downloading torchvision-0.15.2-cp39-cp39-manylinux1_x86_64.whl (6.0 MB)\n",
      "\u001b[2K     \u001b[38;2;114;156;31m━━━━━━━━━━━━━━━━━━━━━━━━━━━━━━━━━━━━━━━━\u001b[0m \u001b[32m6.0/6.0 MB\u001b[0m \u001b[31m12.6 MB/s\u001b[0m eta \u001b[36m0:00:00\u001b[0mm eta \u001b[36m0:00:01\u001b[0m[36m0:00:01\u001b[0m\n",
      "\u001b[?25hRequirement already satisfied: numpy in /home/dai/anaconda3/lib/python3.9/site-packages (from torchvision) (1.23.5)\n",
      "Requirement already satisfied: requests in /home/dai/anaconda3/lib/python3.9/site-packages (from torchvision) (2.29.0)\n",
      "Requirement already satisfied: torch==2.0.1 in /home/dai/anaconda3/lib/python3.9/site-packages (from torchvision) (2.0.1)\n",
      "Requirement already satisfied: pillow!=8.3.*,>=5.3.0 in /home/dai/anaconda3/lib/python3.9/site-packages (from torchvision) (9.4.0)\n",
      "Requirement already satisfied: filelock in /home/dai/anaconda3/lib/python3.9/site-packages (from torch==2.0.1->torchvision) (3.9.0)\n",
      "Requirement already satisfied: typing-extensions in /home/dai/anaconda3/lib/python3.9/site-packages (from torch==2.0.1->torchvision) (4.5.0)\n",
      "Requirement already satisfied: sympy in /home/dai/anaconda3/lib/python3.9/site-packages (from torch==2.0.1->torchvision) (1.12)\n",
      "Requirement already satisfied: networkx in /home/dai/anaconda3/lib/python3.9/site-packages (from torch==2.0.1->torchvision) (3.1)\n",
      "Requirement already satisfied: jinja2 in /home/dai/anaconda3/lib/python3.9/site-packages (from torch==2.0.1->torchvision) (3.1.2)\n",
      "Requirement already satisfied: nvidia-cuda-nvrtc-cu11==11.7.99 in /home/dai/anaconda3/lib/python3.9/site-packages (from torch==2.0.1->torchvision) (11.7.99)\n",
      "Requirement already satisfied: nvidia-cuda-runtime-cu11==11.7.99 in /home/dai/anaconda3/lib/python3.9/site-packages (from torch==2.0.1->torchvision) (11.7.99)\n",
      "Requirement already satisfied: nvidia-cuda-cupti-cu11==11.7.101 in /home/dai/anaconda3/lib/python3.9/site-packages (from torch==2.0.1->torchvision) (11.7.101)\n",
      "Requirement already satisfied: nvidia-cudnn-cu11==8.5.0.96 in /home/dai/anaconda3/lib/python3.9/site-packages (from torch==2.0.1->torchvision) (8.5.0.96)\n",
      "Requirement already satisfied: nvidia-cublas-cu11==11.10.3.66 in /home/dai/anaconda3/lib/python3.9/site-packages (from torch==2.0.1->torchvision) (11.10.3.66)\n",
      "Requirement already satisfied: nvidia-cufft-cu11==10.9.0.58 in /home/dai/anaconda3/lib/python3.9/site-packages (from torch==2.0.1->torchvision) (10.9.0.58)\n",
      "Requirement already satisfied: nvidia-curand-cu11==10.2.10.91 in /home/dai/anaconda3/lib/python3.9/site-packages (from torch==2.0.1->torchvision) (10.2.10.91)\n",
      "Requirement already satisfied: nvidia-cusolver-cu11==11.4.0.1 in /home/dai/anaconda3/lib/python3.9/site-packages (from torch==2.0.1->torchvision) (11.4.0.1)\n",
      "Requirement already satisfied: nvidia-cusparse-cu11==11.7.4.91 in /home/dai/anaconda3/lib/python3.9/site-packages (from torch==2.0.1->torchvision) (11.7.4.91)\n",
      "Requirement already satisfied: nvidia-nccl-cu11==2.14.3 in /home/dai/anaconda3/lib/python3.9/site-packages (from torch==2.0.1->torchvision) (2.14.3)\n",
      "Requirement already satisfied: nvidia-nvtx-cu11==11.7.91 in /home/dai/anaconda3/lib/python3.9/site-packages (from torch==2.0.1->torchvision) (11.7.91)\n",
      "Requirement already satisfied: triton==2.0.0 in /home/dai/anaconda3/lib/python3.9/site-packages (from torch==2.0.1->torchvision) (2.0.0)\n",
      "Requirement already satisfied: setuptools in /home/dai/anaconda3/lib/python3.9/site-packages (from nvidia-cublas-cu11==11.10.3.66->torch==2.0.1->torchvision) (66.0.0)\n",
      "Requirement already satisfied: wheel in /home/dai/anaconda3/lib/python3.9/site-packages (from nvidia-cublas-cu11==11.10.3.66->torch==2.0.1->torchvision) (0.38.4)\n",
      "Requirement already satisfied: cmake in /home/dai/anaconda3/lib/python3.9/site-packages (from triton==2.0.0->torch==2.0.1->torchvision) (3.26.3)\n",
      "Requirement already satisfied: lit in /home/dai/anaconda3/lib/python3.9/site-packages (from triton==2.0.0->torch==2.0.1->torchvision) (16.0.5)\n",
      "Requirement already satisfied: charset-normalizer<4,>=2 in /home/dai/anaconda3/lib/python3.9/site-packages (from requests->torchvision) (2.0.4)\n",
      "Requirement already satisfied: idna<4,>=2.5 in /home/dai/anaconda3/lib/python3.9/site-packages (from requests->torchvision) (3.4)\n",
      "Requirement already satisfied: urllib3<1.27,>=1.21.1 in /home/dai/anaconda3/lib/python3.9/site-packages (from requests->torchvision) (1.26.15)\n",
      "Requirement already satisfied: certifi>=2017.4.17 in /home/dai/anaconda3/lib/python3.9/site-packages (from requests->torchvision) (2023.5.7)\n",
      "Requirement already satisfied: MarkupSafe>=2.0 in /home/dai/anaconda3/lib/python3.9/site-packages (from jinja2->torch==2.0.1->torchvision) (2.1.1)\n",
      "Requirement already satisfied: mpmath>=0.19 in /home/dai/anaconda3/lib/python3.9/site-packages (from sympy->torch==2.0.1->torchvision) (1.3.0)\n",
      "Installing collected packages: torchvision\n",
      "Successfully installed torchvision-0.15.2\n"
     ]
    }
   ],
   "source": [
    "!pip install torchvision"
   ]
  },
  {
   "cell_type": "code",
   "execution_count": 1,
   "id": "a2e75ead",
   "metadata": {},
   "outputs": [],
   "source": [
    "#!/usr/bin/env python\n",
    "# -*- coding: utf-8 -*-"
   ]
  },
  {
   "cell_type": "markdown",
   "id": "62893468",
   "metadata": {},
   "source": [
    "\n",
    "# Deep Neural Networks\n",
    "\n",
    "## Session 27a: Lecture\n",
    "## Introduction to Pytorch\n",
    "- one hidden layer \n",
    "- ${ReLU}$ activation function\n",
    "- multi-class output\n",
    "- FIFA dataset\n",
    "- with torch framework\n",
    "\n",
    "<img src='../../images/prasami_color_tutorials_small.png' width='400' alt=\"By Pramod Sharma : pramod.sharma@prasami.com\" align=\"left\"/>"
   ]
  },
  {
   "cell_type": "code",
   "execution_count": 3,
   "id": "3d52e7d5",
   "metadata": {},
   "outputs": [],
   "source": [
    "###-----------------\n",
    "### Import Libraries\n",
    "###-----------------\n",
    "\n",
    "import os\n",
    "#import numpy as np\n",
    "import pandas as pd\n",
    "\n",
    "from collections.abc import Callable\n",
    "from typing import Literal\n",
    "\n",
    "\n",
    "from sklearn.model_selection import train_test_split\n",
    "from sklearn.metrics import accuracy_score, classification_report, mean_squared_error\n",
    "from sklearn.preprocessing import StandardScaler\n",
    "import matplotlib.pyplot as plt\n",
    "\n",
    "\n",
    "import torch\n",
    "import torch.nn as nn\n",
    "import torch.nn.functional as F\n",
    "from torch.autograd import Variable\n",
    "from torch.utils.data import DataLoader, Dataset\n",
    "import torchvision.datasets as datasets\n",
    "import torchvision.transforms as transformsimage,label= next(iter(dataset))"
   ]
  },
  {
   "cell_type": "code",
   "execution_count": null,
   "id": "17cf6692",
   "metadata": {},
   "outputs": [],
   "source": [
    "# Define Pytorch transforms\n",
    "#tranforms data\n",
    "transform=transforms.Compose([transforms.Resize(IMG_HEIGHT),\n",
    "                              transforms.CenterCrop(IMG_HEIGHT),\n",
    "                             transforms.ToTensor(),\n",
    "                             transforms.Normalize(mean=[0.485,0.456,0.406],std=[0.229,0.224,0.225])])"
   ]
  },
  {
   "cell_type": "code",
   "execution_count": null,
   "id": "f548a8ff",
   "metadata": {},
   "outputs": [],
   "source": [
    "dataset =datasets.ImageFolder(data_dir)#,transform= transport\n",
    "dataset"
   ]
  },
  {
   "cell_type": "code",
   "execution_count": null,
   "id": "5b0137cc",
   "metadata": {},
   "outputs": [],
   "source": [
    "dataset..classes"
   ]
  },
  {
   "cell_type": "code",
   "execution_count": null,
   "id": "2fdc7895",
   "metadata": {},
   "outputs": [],
   "source": [
    "image,label= next(iter(dataset))"
   ]
  },
  {
   "cell_type": "code",
   "execution_count": null,
   "id": "203fa419",
   "metadata": {},
   "outputs": [],
   "source": [
    "image,label= next(iter(dataset))\n",
    "image.shape,label"
   ]
  },
  {
   "cell_type": "code",
   "execution_count": null,
   "id": "649866aa",
   "metadata": {},
   "outputs": [],
   "source": [
    "np.array(image)"
   ]
  },
  {
   "cell_type": "code",
   "execution_count": null,
   "id": "806c2445",
   "metadata": {},
   "outputs": [],
   "source": []
  },
  {
   "cell_type": "code",
   "execution_count": 44,
   "id": "b32a9af9",
   "metadata": {},
   "outputs": [],
   "source": [
    "###----------------------\n",
    "### Some basic parameters\n",
    "###----------------------\n",
    "\n",
    "inpDir = '../input'\n",
    "outDir = '../output'\n",
    "\n",
    "RANDOM_STATE = 177013\n",
    "torch.manual_seed(RANDOM_STATE) # Set Random Seed for reproducible  results\n",
    "\n",
    "EPOCHS = 50 # number of epochs\n",
    "ALPHA = 0.001 # learning rate\n",
    "TEST_SIZE = 0.2"
   ]
  },
  {
   "cell_type": "markdown",
   "id": "3d4b61d8",
   "metadata": {},
   "source": [
    "## All about CUDA"
   ]
  },
  {
   "cell_type": "code",
   "execution_count": 45,
   "id": "de6c4efd",
   "metadata": {},
   "outputs": [
    {
     "name": "stdout",
     "output_type": "stream",
     "text": [
      "Is CUDA available:  False\n",
      "CUDA version:  11.7\n"
     ]
    }
   ],
   "source": [
    "print ('Is CUDA available: ', torch.cuda.is_available())\n",
    "\n",
    "print ('CUDA version: ', torch.version.cuda )\n",
    "\n",
    "# print ('Current Device ID: ', torch.cuda.current_device())\n",
    "\n",
    "# print ('Name of the CUDA device: ', torch.cuda.get_device_name(torch.cuda.current_device()))"
   ]
  },
  {
   "cell_type": "code",
   "execution_count": 46,
   "id": "8095ee67",
   "metadata": {},
   "outputs": [
    {
     "name": "stdout",
     "output_type": "stream",
     "text": [
      "Using cpu device\n"
     ]
    }
   ],
   "source": [
    "# Get cpu or gpu device for training.\n",
    "\n",
    "device = \"cuda\" if torch.cuda.is_available() else \"cpu\"\n",
    "\n",
    "print(f\"Using {device} device\")"
   ]
  },
  {
   "cell_type": "markdown",
   "id": "591b1fc2",
   "metadata": {},
   "source": [
    "## Read FIFA 2019 data set\n",
    "<img src = '../../images/fifa_2019.png' alt = 'Fifa 2019'>"
   ]
  },
  {
   "cell_type": "code",
   "execution_count": 47,
   "id": "a2177d69",
   "metadata": {},
   "outputs": [
    {
     "data": {
      "text/plain": [
       "(18207, 89)"
      ]
     },
     "execution_count": 47,
     "metadata": {},
     "output_type": "execute_result"
    }
   ],
   "source": [
    "data_df = pd.read_csv(os.path.join(inpDir, 'fifa_2019.csv'))\n",
    "data_df.shape"
   ]
  },
  {
   "cell_type": "code",
   "execution_count": 48,
   "id": "0d430015",
   "metadata": {},
   "outputs": [
    {
     "data": {
      "text/html": [
       "<div>\n",
       "<style scoped>\n",
       "    .dataframe tbody tr th:only-of-type {\n",
       "        vertical-align: middle;\n",
       "    }\n",
       "\n",
       "    .dataframe tbody tr th {\n",
       "        vertical-align: top;\n",
       "    }\n",
       "\n",
       "    .dataframe thead th {\n",
       "        text-align: right;\n",
       "    }\n",
       "</style>\n",
       "<table border=\"1\" class=\"dataframe\">\n",
       "  <thead>\n",
       "    <tr style=\"text-align: right;\">\n",
       "      <th></th>\n",
       "      <th>Unnamed: 0</th>\n",
       "      <th>ID</th>\n",
       "      <th>Name</th>\n",
       "      <th>Age</th>\n",
       "      <th>Photo</th>\n",
       "      <th>Nationality</th>\n",
       "      <th>Flag</th>\n",
       "      <th>Overall</th>\n",
       "      <th>Potential</th>\n",
       "      <th>Club</th>\n",
       "      <th>...</th>\n",
       "      <th>Composure</th>\n",
       "      <th>Marking</th>\n",
       "      <th>StandingTackle</th>\n",
       "      <th>SlidingTackle</th>\n",
       "      <th>GKDiving</th>\n",
       "      <th>GKHandling</th>\n",
       "      <th>GKKicking</th>\n",
       "      <th>GKPositioning</th>\n",
       "      <th>GKReflexes</th>\n",
       "      <th>Release Clause</th>\n",
       "    </tr>\n",
       "  </thead>\n",
       "  <tbody>\n",
       "    <tr>\n",
       "      <th>0</th>\n",
       "      <td>0</td>\n",
       "      <td>158023</td>\n",
       "      <td>L. Messi</td>\n",
       "      <td>31</td>\n",
       "      <td>https://cdn.sofifa.org/players/4/19/158023.png</td>\n",
       "      <td>Argentina</td>\n",
       "      <td>https://cdn.sofifa.org/flags/52.png</td>\n",
       "      <td>94</td>\n",
       "      <td>94</td>\n",
       "      <td>FC Barcelona</td>\n",
       "      <td>...</td>\n",
       "      <td>96.0</td>\n",
       "      <td>33.0</td>\n",
       "      <td>28.0</td>\n",
       "      <td>26.0</td>\n",
       "      <td>6.0</td>\n",
       "      <td>11.0</td>\n",
       "      <td>15.0</td>\n",
       "      <td>14.0</td>\n",
       "      <td>8.0</td>\n",
       "      <td>€226.5M</td>\n",
       "    </tr>\n",
       "    <tr>\n",
       "      <th>1</th>\n",
       "      <td>1</td>\n",
       "      <td>20801</td>\n",
       "      <td>Cristiano Ronaldo</td>\n",
       "      <td>33</td>\n",
       "      <td>https://cdn.sofifa.org/players/4/19/20801.png</td>\n",
       "      <td>Portugal</td>\n",
       "      <td>https://cdn.sofifa.org/flags/38.png</td>\n",
       "      <td>94</td>\n",
       "      <td>94</td>\n",
       "      <td>Juventus</td>\n",
       "      <td>...</td>\n",
       "      <td>95.0</td>\n",
       "      <td>28.0</td>\n",
       "      <td>31.0</td>\n",
       "      <td>23.0</td>\n",
       "      <td>7.0</td>\n",
       "      <td>11.0</td>\n",
       "      <td>15.0</td>\n",
       "      <td>14.0</td>\n",
       "      <td>11.0</td>\n",
       "      <td>€127.1M</td>\n",
       "    </tr>\n",
       "    <tr>\n",
       "      <th>2</th>\n",
       "      <td>2</td>\n",
       "      <td>190871</td>\n",
       "      <td>Neymar Jr</td>\n",
       "      <td>26</td>\n",
       "      <td>https://cdn.sofifa.org/players/4/19/190871.png</td>\n",
       "      <td>Brazil</td>\n",
       "      <td>https://cdn.sofifa.org/flags/54.png</td>\n",
       "      <td>92</td>\n",
       "      <td>93</td>\n",
       "      <td>Paris Saint-Germain</td>\n",
       "      <td>...</td>\n",
       "      <td>94.0</td>\n",
       "      <td>27.0</td>\n",
       "      <td>24.0</td>\n",
       "      <td>33.0</td>\n",
       "      <td>9.0</td>\n",
       "      <td>9.0</td>\n",
       "      <td>15.0</td>\n",
       "      <td>15.0</td>\n",
       "      <td>11.0</td>\n",
       "      <td>€228.1M</td>\n",
       "    </tr>\n",
       "    <tr>\n",
       "      <th>3</th>\n",
       "      <td>3</td>\n",
       "      <td>193080</td>\n",
       "      <td>De Gea</td>\n",
       "      <td>27</td>\n",
       "      <td>https://cdn.sofifa.org/players/4/19/193080.png</td>\n",
       "      <td>Spain</td>\n",
       "      <td>https://cdn.sofifa.org/flags/45.png</td>\n",
       "      <td>91</td>\n",
       "      <td>93</td>\n",
       "      <td>Manchester United</td>\n",
       "      <td>...</td>\n",
       "      <td>68.0</td>\n",
       "      <td>15.0</td>\n",
       "      <td>21.0</td>\n",
       "      <td>13.0</td>\n",
       "      <td>90.0</td>\n",
       "      <td>85.0</td>\n",
       "      <td>87.0</td>\n",
       "      <td>88.0</td>\n",
       "      <td>94.0</td>\n",
       "      <td>€138.6M</td>\n",
       "    </tr>\n",
       "    <tr>\n",
       "      <th>4</th>\n",
       "      <td>4</td>\n",
       "      <td>192985</td>\n",
       "      <td>K. De Bruyne</td>\n",
       "      <td>27</td>\n",
       "      <td>https://cdn.sofifa.org/players/4/19/192985.png</td>\n",
       "      <td>Belgium</td>\n",
       "      <td>https://cdn.sofifa.org/flags/7.png</td>\n",
       "      <td>91</td>\n",
       "      <td>92</td>\n",
       "      <td>Manchester City</td>\n",
       "      <td>...</td>\n",
       "      <td>88.0</td>\n",
       "      <td>68.0</td>\n",
       "      <td>58.0</td>\n",
       "      <td>51.0</td>\n",
       "      <td>15.0</td>\n",
       "      <td>13.0</td>\n",
       "      <td>5.0</td>\n",
       "      <td>10.0</td>\n",
       "      <td>13.0</td>\n",
       "      <td>€196.4M</td>\n",
       "    </tr>\n",
       "  </tbody>\n",
       "</table>\n",
       "<p>5 rows × 89 columns</p>\n",
       "</div>"
      ],
      "text/plain": [
       "   Unnamed: 0      ID               Name  Age   \n",
       "0           0  158023           L. Messi   31  \\\n",
       "1           1   20801  Cristiano Ronaldo   33   \n",
       "2           2  190871          Neymar Jr   26   \n",
       "3           3  193080             De Gea   27   \n",
       "4           4  192985       K. De Bruyne   27   \n",
       "\n",
       "                                            Photo Nationality   \n",
       "0  https://cdn.sofifa.org/players/4/19/158023.png   Argentina  \\\n",
       "1   https://cdn.sofifa.org/players/4/19/20801.png    Portugal   \n",
       "2  https://cdn.sofifa.org/players/4/19/190871.png      Brazil   \n",
       "3  https://cdn.sofifa.org/players/4/19/193080.png       Spain   \n",
       "4  https://cdn.sofifa.org/players/4/19/192985.png     Belgium   \n",
       "\n",
       "                                  Flag  Overall  Potential   \n",
       "0  https://cdn.sofifa.org/flags/52.png       94         94  \\\n",
       "1  https://cdn.sofifa.org/flags/38.png       94         94   \n",
       "2  https://cdn.sofifa.org/flags/54.png       92         93   \n",
       "3  https://cdn.sofifa.org/flags/45.png       91         93   \n",
       "4   https://cdn.sofifa.org/flags/7.png       91         92   \n",
       "\n",
       "                  Club  ... Composure Marking StandingTackle  SlidingTackle   \n",
       "0         FC Barcelona  ...      96.0    33.0           28.0           26.0  \\\n",
       "1             Juventus  ...      95.0    28.0           31.0           23.0   \n",
       "2  Paris Saint-Germain  ...      94.0    27.0           24.0           33.0   \n",
       "3    Manchester United  ...      68.0    15.0           21.0           13.0   \n",
       "4      Manchester City  ...      88.0    68.0           58.0           51.0   \n",
       "\n",
       "  GKDiving  GKHandling  GKKicking  GKPositioning GKReflexes Release Clause  \n",
       "0      6.0        11.0       15.0           14.0        8.0        €226.5M  \n",
       "1      7.0        11.0       15.0           14.0       11.0        €127.1M  \n",
       "2      9.0         9.0       15.0           15.0       11.0        €228.1M  \n",
       "3     90.0        85.0       87.0           88.0       94.0        €138.6M  \n",
       "4     15.0        13.0        5.0           10.0       13.0        €196.4M  \n",
       "\n",
       "[5 rows x 89 columns]"
      ]
     },
     "execution_count": 48,
     "metadata": {},
     "output_type": "execute_result"
    }
   ],
   "source": [
    "# removing rows with position == null\n",
    "data_df = data_df[data_df[\"Position\"].notnull()]\n",
    "data_df.head()"
   ]
  },
  {
   "cell_type": "code",
   "execution_count": 49,
   "id": "78f6a5e9",
   "metadata": {},
   "outputs": [],
   "source": [
    "# Following columns appear to be relevant for our analysis\n",
    "rel_cols = [\"Position\", 'Finishing', 'HeadingAccuracy', 'ShortPassing', 'Volleys', 'Dribbling',\n",
    "            'Curve', 'FKAccuracy', 'LongPassing', 'BallControl', 'Acceleration',\n",
    "            'SprintSpeed', 'Agility', 'Reactions', 'Balance', 'ShotPower',\n",
    "            'Jumping', 'Stamina', 'Strength', 'LongShots', 'Aggression',\n",
    "            'Interceptions', 'Positioning', 'Vision', 'Penalties', 'Composure',\n",
    "            'Marking', 'StandingTackle', 'SlidingTackle', 'GKDiving', 'GKHandling',\n",
    "            'GKKicking', 'GKPositioning', 'GKReflexes']"
   ]
  },
  {
   "cell_type": "code",
   "execution_count": 50,
   "id": "37ca21ba",
   "metadata": {},
   "outputs": [],
   "source": [
    "goalkeeper = 'GK'\n",
    "forward = ['ST', 'LW', 'RW', 'LF', 'RF', 'RS','LS', 'CF']\n",
    "midfielder = ['CM','RCM','LCM', 'CDM','RDM','LDM', 'CAM', 'LAM', 'RAM', 'RM', 'LM']\n",
    "defender = ['CB', 'RCB', 'LCB', 'LWB', 'RWB', 'LB', 'RB']"
   ]
  },
  {
   "cell_type": "code",
   "execution_count": 51,
   "id": "c5eb10e8",
   "metadata": {},
   "outputs": [],
   "source": [
    "#Assign labels to goalkeepers\n",
    "data_df.loc[data_df[\"Position\"] == \"GK\", \"Position\"] = 0\n",
    "\n",
    "#Defenders\n",
    "data_df.loc[data_df[\"Position\"].isin(defender), \"Position\"] = 1\n",
    "\n",
    "#Midfielders\n",
    "data_df.loc[data_df[\"Position\"].isin(midfielder), \"Position\"] = 2\n",
    "\n",
    "#Forward\n",
    "data_df.loc[data_df[\"Position\"].isin(forward), \"Position\"] = 3\n",
    "\n",
    "# Helps in preventing pandas from complaining while get_dummies\n",
    "data_df['Position'] = pd.to_numeric(data_df['Position'], downcast=\"integer\")"
   ]
  },
  {
   "cell_type": "code",
   "execution_count": 52,
   "id": "f72bf05f",
   "metadata": {},
   "outputs": [
    {
     "data": {
      "text/html": [
       "<div>\n",
       "<style scoped>\n",
       "    .dataframe tbody tr th:only-of-type {\n",
       "        vertical-align: middle;\n",
       "    }\n",
       "\n",
       "    .dataframe tbody tr th {\n",
       "        vertical-align: top;\n",
       "    }\n",
       "\n",
       "    .dataframe thead th {\n",
       "        text-align: right;\n",
       "    }\n",
       "</style>\n",
       "<table border=\"1\" class=\"dataframe\">\n",
       "  <thead>\n",
       "    <tr style=\"text-align: right;\">\n",
       "      <th></th>\n",
       "      <th>Position</th>\n",
       "      <th>Finishing</th>\n",
       "      <th>HeadingAccuracy</th>\n",
       "      <th>ShortPassing</th>\n",
       "      <th>Volleys</th>\n",
       "      <th>Dribbling</th>\n",
       "      <th>Curve</th>\n",
       "      <th>FKAccuracy</th>\n",
       "      <th>LongPassing</th>\n",
       "      <th>BallControl</th>\n",
       "      <th>...</th>\n",
       "      <th>Penalties</th>\n",
       "      <th>Composure</th>\n",
       "      <th>Marking</th>\n",
       "      <th>StandingTackle</th>\n",
       "      <th>SlidingTackle</th>\n",
       "      <th>GKDiving</th>\n",
       "      <th>GKHandling</th>\n",
       "      <th>GKKicking</th>\n",
       "      <th>GKPositioning</th>\n",
       "      <th>GKReflexes</th>\n",
       "    </tr>\n",
       "  </thead>\n",
       "  <tbody>\n",
       "    <tr>\n",
       "      <th>0</th>\n",
       "      <td>3</td>\n",
       "      <td>95.0</td>\n",
       "      <td>70.0</td>\n",
       "      <td>90.0</td>\n",
       "      <td>86.0</td>\n",
       "      <td>97.0</td>\n",
       "      <td>93.0</td>\n",
       "      <td>94.0</td>\n",
       "      <td>87.0</td>\n",
       "      <td>96.0</td>\n",
       "      <td>...</td>\n",
       "      <td>75.0</td>\n",
       "      <td>96.0</td>\n",
       "      <td>33.0</td>\n",
       "      <td>28.0</td>\n",
       "      <td>26.0</td>\n",
       "      <td>6.0</td>\n",
       "      <td>11.0</td>\n",
       "      <td>15.0</td>\n",
       "      <td>14.0</td>\n",
       "      <td>8.0</td>\n",
       "    </tr>\n",
       "    <tr>\n",
       "      <th>1</th>\n",
       "      <td>3</td>\n",
       "      <td>94.0</td>\n",
       "      <td>89.0</td>\n",
       "      <td>81.0</td>\n",
       "      <td>87.0</td>\n",
       "      <td>88.0</td>\n",
       "      <td>81.0</td>\n",
       "      <td>76.0</td>\n",
       "      <td>77.0</td>\n",
       "      <td>94.0</td>\n",
       "      <td>...</td>\n",
       "      <td>85.0</td>\n",
       "      <td>95.0</td>\n",
       "      <td>28.0</td>\n",
       "      <td>31.0</td>\n",
       "      <td>23.0</td>\n",
       "      <td>7.0</td>\n",
       "      <td>11.0</td>\n",
       "      <td>15.0</td>\n",
       "      <td>14.0</td>\n",
       "      <td>11.0</td>\n",
       "    </tr>\n",
       "    <tr>\n",
       "      <th>2</th>\n",
       "      <td>3</td>\n",
       "      <td>87.0</td>\n",
       "      <td>62.0</td>\n",
       "      <td>84.0</td>\n",
       "      <td>84.0</td>\n",
       "      <td>96.0</td>\n",
       "      <td>88.0</td>\n",
       "      <td>87.0</td>\n",
       "      <td>78.0</td>\n",
       "      <td>95.0</td>\n",
       "      <td>...</td>\n",
       "      <td>81.0</td>\n",
       "      <td>94.0</td>\n",
       "      <td>27.0</td>\n",
       "      <td>24.0</td>\n",
       "      <td>33.0</td>\n",
       "      <td>9.0</td>\n",
       "      <td>9.0</td>\n",
       "      <td>15.0</td>\n",
       "      <td>15.0</td>\n",
       "      <td>11.0</td>\n",
       "    </tr>\n",
       "    <tr>\n",
       "      <th>3</th>\n",
       "      <td>0</td>\n",
       "      <td>13.0</td>\n",
       "      <td>21.0</td>\n",
       "      <td>50.0</td>\n",
       "      <td>13.0</td>\n",
       "      <td>18.0</td>\n",
       "      <td>21.0</td>\n",
       "      <td>19.0</td>\n",
       "      <td>51.0</td>\n",
       "      <td>42.0</td>\n",
       "      <td>...</td>\n",
       "      <td>40.0</td>\n",
       "      <td>68.0</td>\n",
       "      <td>15.0</td>\n",
       "      <td>21.0</td>\n",
       "      <td>13.0</td>\n",
       "      <td>90.0</td>\n",
       "      <td>85.0</td>\n",
       "      <td>87.0</td>\n",
       "      <td>88.0</td>\n",
       "      <td>94.0</td>\n",
       "    </tr>\n",
       "    <tr>\n",
       "      <th>4</th>\n",
       "      <td>2</td>\n",
       "      <td>82.0</td>\n",
       "      <td>55.0</td>\n",
       "      <td>92.0</td>\n",
       "      <td>82.0</td>\n",
       "      <td>86.0</td>\n",
       "      <td>85.0</td>\n",
       "      <td>83.0</td>\n",
       "      <td>91.0</td>\n",
       "      <td>91.0</td>\n",
       "      <td>...</td>\n",
       "      <td>79.0</td>\n",
       "      <td>88.0</td>\n",
       "      <td>68.0</td>\n",
       "      <td>58.0</td>\n",
       "      <td>51.0</td>\n",
       "      <td>15.0</td>\n",
       "      <td>13.0</td>\n",
       "      <td>5.0</td>\n",
       "      <td>10.0</td>\n",
       "      <td>13.0</td>\n",
       "    </tr>\n",
       "  </tbody>\n",
       "</table>\n",
       "<p>5 rows × 34 columns</p>\n",
       "</div>"
      ],
      "text/plain": [
       "   Position  Finishing  HeadingAccuracy  ShortPassing  Volleys  Dribbling   \n",
       "0         3       95.0             70.0          90.0     86.0       97.0  \\\n",
       "1         3       94.0             89.0          81.0     87.0       88.0   \n",
       "2         3       87.0             62.0          84.0     84.0       96.0   \n",
       "3         0       13.0             21.0          50.0     13.0       18.0   \n",
       "4         2       82.0             55.0          92.0     82.0       86.0   \n",
       "\n",
       "   Curve  FKAccuracy  LongPassing  BallControl  ...  Penalties  Composure   \n",
       "0   93.0        94.0         87.0         96.0  ...       75.0       96.0  \\\n",
       "1   81.0        76.0         77.0         94.0  ...       85.0       95.0   \n",
       "2   88.0        87.0         78.0         95.0  ...       81.0       94.0   \n",
       "3   21.0        19.0         51.0         42.0  ...       40.0       68.0   \n",
       "4   85.0        83.0         91.0         91.0  ...       79.0       88.0   \n",
       "\n",
       "   Marking  StandingTackle  SlidingTackle  GKDiving  GKHandling  GKKicking   \n",
       "0     33.0            28.0           26.0       6.0        11.0       15.0  \\\n",
       "1     28.0            31.0           23.0       7.0        11.0       15.0   \n",
       "2     27.0            24.0           33.0       9.0         9.0       15.0   \n",
       "3     15.0            21.0           13.0      90.0        85.0       87.0   \n",
       "4     68.0            58.0           51.0      15.0        13.0        5.0   \n",
       "\n",
       "   GKPositioning  GKReflexes  \n",
       "0           14.0         8.0  \n",
       "1           14.0        11.0  \n",
       "2           15.0        11.0  \n",
       "3           88.0        94.0  \n",
       "4           10.0        13.0  \n",
       "\n",
       "[5 rows x 34 columns]"
      ]
     },
     "execution_count": 52,
     "metadata": {},
     "output_type": "execute_result"
    }
   ],
   "source": [
    "# Keeping relevent columns.\n",
    "data_df = data_df[rel_cols]\n",
    "data_df.head()"
   ]
  },
  {
   "cell_type": "code",
   "execution_count": 53,
   "id": "fc396f4f",
   "metadata": {},
   "outputs": [],
   "source": [
    "feature = data_df.drop('Position', axis = 1).to_numpy()\n",
    "label = data_df['Position'].to_numpy()"
   ]
  },
  {
   "cell_type": "code",
   "execution_count": 54,
   "id": "ec44aaeb",
   "metadata": {},
   "outputs": [
    {
     "data": {
      "text/plain": [
       "((14517, 33), (3630, 33), (14517,), (3630,))"
      ]
     },
     "execution_count": 54,
     "metadata": {},
     "output_type": "execute_result"
    }
   ],
   "source": [
    "X_train, X_test, y_train, y_test = train_test_split(feature, label,\n",
    "                                                    stratify=label,\n",
    "                                                    test_size=TEST_SIZE, \n",
    "                                                    random_state=RANDOM_STATE )\n",
    "\n",
    "X_train.shape, X_test.shape, y_train.shape, y_test.shape"
   ]
  },
  {
   "cell_type": "code",
   "execution_count": 55,
   "id": "b829ccfc",
   "metadata": {},
   "outputs": [
    {
     "data": {
      "text/plain": [
       "array([1, 2, 1, ..., 2, 1, 2], dtype=int8)"
      ]
     },
     "execution_count": 55,
     "metadata": {},
     "output_type": "execute_result"
    }
   ],
   "source": [
    "y_train"
   ]
  },
  {
   "cell_type": "code",
   "execution_count": 56,
   "id": "bb7b6f5a",
   "metadata": {},
   "outputs": [
    {
     "data": {
      "text/plain": [
       "tensor([[34., 40., 36.,  ...,  9.,  9., 11.],\n",
       "        [48., 51., 64.,  ..., 12., 13.,  9.],\n",
       "        [43., 75., 56.,  ..., 13., 12., 13.],\n",
       "        ...,\n",
       "        [49., 69., 68.,  ...,  9., 11.,  7.],\n",
       "        [55., 66., 71.,  ..., 14.,  8., 15.],\n",
       "        [57., 41., 57.,  ..., 14., 11.,  7.]])"
      ]
     },
     "execution_count": 56,
     "metadata": {},
     "output_type": "execute_result"
    }
   ],
   "source": [
    "features = torch.tensor(X_train, dtype=torch.float32, device=device)\n",
    "labels = torch.tensor(y_train, dtype=torch.int64, device=device)\n",
    "features"
   ]
  },
  {
   "cell_type": "markdown",
   "id": "9e340720",
   "metadata": {},
   "source": [
    "## Prepare Network"
   ]
  },
  {
   "cell_type": "code",
   "execution_count": 57,
   "id": "ddfbe0ad",
   "metadata": {},
   "outputs": [],
   "source": [
    "# nn.Sequential network with nn.Linear layers\n",
    "\n",
    "\n",
    "net = nn.Sequential(nn.Linear(X_train.shape[1],16),nn.ReLU(),nn.Linear(16,4),nn.Softmax(dim=1))\n",
    "net=net.to(device)\n"
   ]
  },
  {
   "cell_type": "code",
   "execution_count": 58,
   "id": "8504907e",
   "metadata": {},
   "outputs": [
    {
     "data": {
      "text/plain": [
       "Sequential(\n",
       "  (0): Linear(in_features=33, out_features=16, bias=True)\n",
       "  (1): ReLU()\n",
       "  (2): Linear(in_features=16, out_features=4, bias=True)\n",
       "  (3): Softmax(dim=1)\n",
       ")"
      ]
     },
     "execution_count": 58,
     "metadata": {},
     "output_type": "execute_result"
    }
   ],
   "source": [
    "net"
   ]
  },
  {
   "cell_type": "code",
   "execution_count": 59,
   "id": "da3f3ddb",
   "metadata": {},
   "outputs": [
    {
     "data": {
      "text/plain": [
       "torch.Size([14517, 4])"
      ]
     },
     "execution_count": 59,
     "metadata": {},
     "output_type": "execute_result"
    }
   ],
   "source": [
    "# Test its working\n",
    "net(features).shape"
   ]
  },
  {
   "cell_type": "markdown",
   "id": "7d168c30",
   "metadata": {},
   "source": [
    "## Train Your model\n",
    "- Define the loss function and optimizer\n",
    "- Train the model for multiple epochs\n",
    "\n",
    "- Loop for epochs\n",
    "    - Zero your gradients for every batch!\n",
    "    - Make predictions for this batch\n",
    "    - Compute the loss and its gradients\n",
    "    - Adjust learning weights\n",
    "    - print (train_loss.item())"
   ]
  },
  {
   "cell_type": "code",
   "execution_count": 60,
   "id": "09b2ac89",
   "metadata": {
    "scrolled": true
   },
   "outputs": [
    {
     "name": "stdout",
     "output_type": "stream",
     "text": [
      "1.3857232332229614\n",
      "1.3260260820388794\n",
      "1.2794106006622314\n",
      "1.2473117113113403\n",
      "1.2275009155273438\n",
      "1.2156352996826172\n",
      "1.2080714702606201\n",
      "1.2025781869888306\n",
      "1.198068380355835\n",
      "1.1941041946411133\n",
      "1.1906239986419678\n",
      "1.1876922845840454\n",
      "1.1853578090667725\n",
      "1.183508276939392\n",
      "1.181989312171936\n",
      "1.1804871559143066\n",
      "1.1788431406021118\n",
      "1.1769939661026\n",
      "1.1749660968780518\n",
      "1.1729214191436768\n",
      "1.1709972620010376\n",
      "1.1692066192626953\n",
      "1.1675934791564941\n",
      "1.1661609411239624\n",
      "1.1648521423339844\n",
      "1.1636381149291992\n",
      "1.1625059843063354\n",
      "1.1614291667938232\n",
      "1.1603933572769165\n",
      "1.1594164371490479\n",
      "1.158503532409668\n",
      "1.1576290130615234\n",
      "1.1567745208740234\n",
      "1.1559574604034424\n",
      "1.1551291942596436\n",
      "1.1542446613311768\n",
      "1.153249979019165\n",
      "1.1520627737045288\n",
      "1.1507081985473633\n",
      "1.1492282152175903\n",
      "1.1479904651641846\n",
      "1.1476032733917236\n",
      "1.1476573944091797\n",
      "1.1470789909362793\n",
      "1.146156668663025\n",
      "1.1452322006225586\n",
      "1.144642949104309\n",
      "1.14443039894104\n",
      "1.144228219985962\n",
      "1.143842101097107\n"
     ]
    }
   ],
   "source": [
    "#define the loss fn and optimiser\n",
    "loss_fn=nn.CrossEntropyLoss() # cross entopy loss\n",
    "optimiser=torch.optim.Adam(net.parameters(),lr=ALPHA) #optimiser\n",
    "\n",
    "\n",
    "for e in range(EPOCHS):\n",
    "    #Zero your Gradients for Every batch!\n",
    "    optimiser.zero_grad()\n",
    "    \n",
    "    #Make prediction for this batch\n",
    "    outputs=net(features)\n",
    "    \n",
    "    #compute the loss and its gradients\n",
    "    train_loss=loss_fn(outputs,labels)\n",
    "    train_loss.backward()\n",
    "    \n",
    "    #adjust learning rates\n",
    "    optimiser.step()\n",
    "    \n",
    "    print(train_loss.item())"
   ]
  },
  {
   "cell_type": "markdown",
   "id": "4d2c322a",
   "metadata": {},
   "source": [
    "## Test Your Model\n",
    "- Switch off grads\n",
    "- set model to eval mode\n",
    "- make predictions\n",
    "- calculate accuracy"
   ]
  },
  {
   "cell_type": "code",
   "execution_count": 61,
   "id": "09a84156",
   "metadata": {},
   "outputs": [],
   "source": [
    "test_features=torch.tensor(X_test,device=device,dtype=torch.float32)\n",
    "test_labels=torch.tensor(y_test,device=device,dtype=torch.int64)"
   ]
  },
  {
   "cell_type": "code",
   "execution_count": 62,
   "id": "fae2d9cf",
   "metadata": {},
   "outputs": [],
   "source": [
    "output=net(test_features)\n",
    "y_pred=output.argmax(dim=1).cpu().numpy()"
   ]
  },
  {
   "cell_type": "code",
   "execution_count": 63,
   "id": "fa0a0211",
   "metadata": {},
   "outputs": [
    {
     "data": {
      "text/plain": [
       "0.5969696969696969"
      ]
     },
     "execution_count": 63,
     "metadata": {},
     "output_type": "execute_result"
    }
   ],
   "source": [
    "accuracy_score(y_test,y_pred)"
   ]
  },
  {
   "cell_type": "code",
   "execution_count": 64,
   "id": "8385f614",
   "metadata": {},
   "outputs": [
    {
     "data": {
      "text/plain": [
       "tensor([[47., 42., 64.,  ..., 15., 12.,  6.],\n",
       "        [12., 12., 36.,  ..., 67., 69., 68.],\n",
       "        [37., 66., 69.,  ..., 14., 11., 13.],\n",
       "        ...,\n",
       "        [33., 80., 65.,  ...,  5.,  5.,  5.],\n",
       "        [83., 68., 78.,  ..., 13.,  8., 16.],\n",
       "        [55., 35., 74.,  ...,  9.,  7., 16.]])"
      ]
     },
     "execution_count": 64,
     "metadata": {},
     "output_type": "execute_result"
    }
   ],
   "source": [
    "test_features"
   ]
  },
  {
   "cell_type": "code",
   "execution_count": null,
   "id": "9741e376",
   "metadata": {},
   "outputs": [],
   "source": []
  }
 ],
 "metadata": {
  "kernelspec": {
   "display_name": "Python 3 (ipykernel)",
   "language": "python",
   "name": "python3"
  },
  "language_info": {
   "codemirror_mode": {
    "name": "ipython",
    "version": 3
   },
   "file_extension": ".py",
   "mimetype": "text/x-python",
   "name": "python",
   "nbconvert_exporter": "python",
   "pygments_lexer": "ipython3",
   "version": "3.9.16"
  }
 },
 "nbformat": 4,
 "nbformat_minor": 5
}
